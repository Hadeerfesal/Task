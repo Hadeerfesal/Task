{
 "cells": [
  {
   "cell_type": "code",
   "execution_count": 2,
   "id": "ae24c102",
   "metadata": {},
   "outputs": [],
   "source": [
    "import cobra\n",
    "from cobra import Model,Reaction,Metabolite\n",
    "model=Model('Task1')"
   ]
  },
  {
   "cell_type": "code",
   "execution_count": 3,
   "id": "c4789be2",
   "metadata": {},
   "outputs": [],
   "source": [
    "R1=Reaction('R1')\n",
    "R1.name='R1'\n",
    "R1.lower_bound=0\n",
    "R1.upper_bound=1000"
   ]
  },
  {
   "cell_type": "code",
   "execution_count": 4,
   "id": "e863f50a",
   "metadata": {},
   "outputs": [],
   "source": [
    "R2=Reaction('R2')\n",
    "R2.name='R2'\n",
    "R2.lower_bound=0\n",
    "R2.upper_bound=1000"
   ]
  },
  {
   "cell_type": "code",
   "execution_count": 5,
   "id": "f3cf990a",
   "metadata": {},
   "outputs": [],
   "source": [
    "Mu=Reaction('Mu')\n",
    "Mu.name='Mu'\n",
    "Mu.lower_bound=0\n",
    "Mu.upper_bound=1000"
   ]
  },
  {
   "cell_type": "code",
   "execution_count": 6,
   "id": "ac657325",
   "metadata": {},
   "outputs": [],
   "source": [
    "R0=Reaction('R0')\n",
    "R0.name='R0'\n",
    "R0.lower_bound=1\n",
    "R0.upper_bound=1"
   ]
  },
  {
   "cell_type": "code",
   "execution_count": 7,
   "id": "8fb10203",
   "metadata": {},
   "outputs": [],
   "source": [
    "R3=Reaction('R3')\n",
    "R3.name='R3'\n",
    "R3.lower_bound=.9 \n",
    "R3.upper_bound=.9"
   ]
  },
  {
   "cell_type": "code",
   "execution_count": 8,
   "id": "ee4f0c39",
   "metadata": {},
   "outputs": [],
   "source": [
    "R4=Reaction('R4')\n",
    "R4.name='R4'\n",
    "R4.lower_bound=0\n",
    "R4.upper_bound=1000"
   ]
  },
  {
   "cell_type": "code",
   "execution_count": 9,
   "id": "d686664a",
   "metadata": {},
   "outputs": [],
   "source": [
    "A=Metabolite('A',compartment='c') \n",
    "B=Metabolite('B',compartment='c') \n",
    "C=Metabolite('C',compartment='c')\n",
    "ATP=Metabolite('ATP',compartment='c')"
   ]
  },
  {
   "cell_type": "code",
   "execution_count": 10,
   "id": "98464eb5",
   "metadata": {},
   "outputs": [],
   "source": [
    "R0.add_metabolites({A:1})\n",
    "R1.add_metabolites({A:-1,B:1})\n",
    "R2.add_metabolites({B:-1,C:1})\n",
    "R3.add_metabolites({A:-1,ATP:1})\n",
    "R4.add_metabolites({ATP:-1})\n",
    "Mu.add_metabolites({C:-1})"
   ]
  },
  {
   "cell_type": "code",
   "execution_count": 11,
   "id": "de30dc98",
   "metadata": {},
   "outputs": [],
   "source": [
    "model.add_reactions([R0,R1,R2,R3,R4,Mu])"
   ]
  },
  {
   "cell_type": "code",
   "execution_count": 12,
   "id": "704f6fa3",
   "metadata": {},
   "outputs": [],
   "source": [
    "model.objective='Mu'"
   ]
  },
  {
   "cell_type": "code",
   "execution_count": 13,
   "id": "a8ebab93",
   "metadata": {},
   "outputs": [
    {
     "data": {
      "text/html": [
       "<strong><em>Optimal</em> solution with objective value 0.100</strong><br><div>\n",
       "<style scoped>\n",
       "    .dataframe tbody tr th:only-of-type {\n",
       "        vertical-align: middle;\n",
       "    }\n",
       "\n",
       "    .dataframe tbody tr th {\n",
       "        vertical-align: top;\n",
       "    }\n",
       "\n",
       "    .dataframe thead th {\n",
       "        text-align: right;\n",
       "    }\n",
       "</style>\n",
       "<table border=\"1\" class=\"dataframe\">\n",
       "  <thead>\n",
       "    <tr style=\"text-align: right;\">\n",
       "      <th></th>\n",
       "      <th>fluxes</th>\n",
       "      <th>reduced_costs</th>\n",
       "    </tr>\n",
       "  </thead>\n",
       "  <tbody>\n",
       "    <tr>\n",
       "      <th>R0</th>\n",
       "      <td>1.0</td>\n",
       "      <td>2.0</td>\n",
       "    </tr>\n",
       "    <tr>\n",
       "      <th>R1</th>\n",
       "      <td>0.1</td>\n",
       "      <td>0.0</td>\n",
       "    </tr>\n",
       "    <tr>\n",
       "      <th>R2</th>\n",
       "      <td>0.1</td>\n",
       "      <td>0.0</td>\n",
       "    </tr>\n",
       "    <tr>\n",
       "      <th>R3</th>\n",
       "      <td>0.9</td>\n",
       "      <td>-2.0</td>\n",
       "    </tr>\n",
       "    <tr>\n",
       "      <th>R4</th>\n",
       "      <td>0.9</td>\n",
       "      <td>0.0</td>\n",
       "    </tr>\n",
       "    <tr>\n",
       "      <th>Mu</th>\n",
       "      <td>0.1</td>\n",
       "      <td>0.0</td>\n",
       "    </tr>\n",
       "  </tbody>\n",
       "</table>\n",
       "</div>"
      ],
      "text/plain": [
       "<Solution 0.100 at 0x1fb00b19970>"
      ]
     },
     "execution_count": 13,
     "metadata": {},
     "output_type": "execute_result"
    }
   ],
   "source": [
    "model.optimize()"
   ]
  },
  {
   "cell_type": "code",
   "execution_count": 14,
   "id": "555b290b",
   "metadata": {},
   "outputs": [
    {
     "data": {
      "text/html": [
       "<h3>Objective</h3><p>1.0 Mu = 0.09999999999999998</p><h4>Uptake</h4><table border=\"1\" class=\"dataframe\">\n",
       "  <thead>\n",
       "    <tr style=\"text-align: right;\">\n",
       "      <th>Metabolite</th>\n",
       "      <th>Reaction</th>\n",
       "      <th>Flux</th>\n",
       "      <th>C-Number</th>\n",
       "      <th>C-Flux</th>\n",
       "    </tr>\n",
       "  </thead>\n",
       "  <tbody>\n",
       "    <tr>\n",
       "      <td>A</td>\n",
       "      <td>R0</td>\n",
       "      <td>1</td>\n",
       "      <td>0</td>\n",
       "      <td>0.00%</td>\n",
       "    </tr>\n",
       "  </tbody>\n",
       "</table><h4>Secretion</h4><table border=\"1\" class=\"dataframe\">\n",
       "  <thead>\n",
       "    <tr style=\"text-align: right;\">\n",
       "      <th>Metabolite</th>\n",
       "      <th>Reaction</th>\n",
       "      <th>Flux</th>\n",
       "      <th>C-Number</th>\n",
       "      <th>C-Flux</th>\n",
       "    </tr>\n",
       "  </thead>\n",
       "  <tbody>\n",
       "    <tr>\n",
       "      <td>C</td>\n",
       "      <td>Mu</td>\n",
       "      <td>-0.1</td>\n",
       "      <td>0</td>\n",
       "      <td>0.00%</td>\n",
       "    </tr>\n",
       "    <tr>\n",
       "      <td>ATP</td>\n",
       "      <td>R4</td>\n",
       "      <td>-0.9</td>\n",
       "      <td>0</td>\n",
       "      <td>0.00%</td>\n",
       "    </tr>\n",
       "  </tbody>\n",
       "</table>"
      ],
      "text/plain": [
       "<cobra.summary.model_summary.ModelSummary at 0x1fb79613280>"
      ]
     },
     "execution_count": 14,
     "metadata": {},
     "output_type": "execute_result"
    }
   ],
   "source": [
    "model.summary()"
   ]
  },
  {
   "cell_type": "code",
   "execution_count": null,
   "id": "2461b691",
   "metadata": {},
   "outputs": [],
   "source": []
  }
 ],
 "metadata": {
  "kernelspec": {
   "display_name": "Python 3",
   "language": "python",
   "name": "python3"
  },
  "language_info": {
   "codemirror_mode": {
    "name": "ipython",
    "version": 3
   },
   "file_extension": ".py",
   "mimetype": "text/x-python",
   "name": "python",
   "nbconvert_exporter": "python",
   "pygments_lexer": "ipython3",
   "version": "3.8.8"
  }
 },
 "nbformat": 4,
 "nbformat_minor": 5
}
